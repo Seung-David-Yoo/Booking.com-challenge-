{
 "cells": [
  {
   "cell_type": "code",
   "execution_count": 98,
   "id": "2c62460f",
   "metadata": {},
   "outputs": [],
   "source": [
    "import numpy as np\n",
    "import pandas as pd\n",
    "#import pgeocode\n",
    "import matplotlib.pyplot as plt\n",
    "from pylab import rcParams\n",
    "#import seaborn as sb\n",
    "\n",
    "import networkx as nx\n",
    "#from functools import reduce\n",
    "from mlxtend.frequent_patterns import apriori,association_rules\n",
    "from mlxtend.preprocessing import TransactionEncoder\n",
    "import seaborn as sns\n",
    "import collections\n",
    "from nltk import flatten"
   ]
  },
  {
   "cell_type": "code",
   "execution_count": 131,
   "id": "d07a5ac9",
   "metadata": {},
   "outputs": [],
   "source": [
    "df=pd.read_csv('converted_dataset.csv')\n",
    "tff=pd.read_csv(\"training_first_fourth_city.csv\")"
   ]
  },
  {
   "cell_type": "code",
   "execution_count": 173,
   "id": "297804e7",
   "metadata": {},
   "outputs": [
    {
     "data": {
      "text/html": [
       "<div>\n",
       "<style scoped>\n",
       "    .dataframe tbody tr th:only-of-type {\n",
       "        vertical-align: middle;\n",
       "    }\n",
       "\n",
       "    .dataframe tbody tr th {\n",
       "        vertical-align: top;\n",
       "    }\n",
       "\n",
       "    .dataframe thead th {\n",
       "        text-align: right;\n",
       "    }\n",
       "</style>\n",
       "<table border=\"1\" class=\"dataframe\">\n",
       "  <thead>\n",
       "    <tr style=\"text-align: right;\">\n",
       "      <th></th>\n",
       "      <th>first_city</th>\n",
       "      <th>fourth_city</th>\n",
       "      <th>count</th>\n",
       "    </tr>\n",
       "  </thead>\n",
       "  <tbody>\n",
       "    <tr>\n",
       "      <th>0</th>\n",
       "      <td>8183</td>\n",
       "      <td>30628</td>\n",
       "      <td>1</td>\n",
       "    </tr>\n",
       "    <tr>\n",
       "      <th>1</th>\n",
       "      <td>38677</td>\n",
       "      <td>38677</td>\n",
       "      <td>178</td>\n",
       "    </tr>\n",
       "    <tr>\n",
       "      <th>2</th>\n",
       "      <td>64876</td>\n",
       "      <td>36063</td>\n",
       "      <td>208</td>\n",
       "    </tr>\n",
       "    <tr>\n",
       "      <th>3</th>\n",
       "      <td>55990</td>\n",
       "      <td>36063</td>\n",
       "      <td>1</td>\n",
       "    </tr>\n",
       "    <tr>\n",
       "      <th>4</th>\n",
       "      <td>11306</td>\n",
       "      <td>65690</td>\n",
       "      <td>1</td>\n",
       "    </tr>\n",
       "    <tr>\n",
       "      <th>...</th>\n",
       "      <td>...</td>\n",
       "      <td>...</td>\n",
       "      <td>...</td>\n",
       "    </tr>\n",
       "    <tr>\n",
       "      <th>104223</th>\n",
       "      <td>11349</td>\n",
       "      <td>41168</td>\n",
       "      <td>1</td>\n",
       "    </tr>\n",
       "    <tr>\n",
       "      <th>104224</th>\n",
       "      <td>64876</td>\n",
       "      <td>1766</td>\n",
       "      <td>1</td>\n",
       "    </tr>\n",
       "    <tr>\n",
       "      <th>104225</th>\n",
       "      <td>4476</td>\n",
       "      <td>9608</td>\n",
       "      <td>1</td>\n",
       "    </tr>\n",
       "    <tr>\n",
       "      <th>104226</th>\n",
       "      <td>51291</td>\n",
       "      <td>24036</td>\n",
       "      <td>1</td>\n",
       "    </tr>\n",
       "    <tr>\n",
       "      <th>104227</th>\n",
       "      <td>17944</td>\n",
       "      <td>62930</td>\n",
       "      <td>1</td>\n",
       "    </tr>\n",
       "  </tbody>\n",
       "</table>\n",
       "<p>104228 rows × 3 columns</p>\n",
       "</div>"
      ],
      "text/plain": [
       "        first_city  fourth_city  count\n",
       "0             8183        30628      1\n",
       "1            38677        38677    178\n",
       "2            64876        36063    208\n",
       "3            55990        36063      1\n",
       "4            11306        65690      1\n",
       "...            ...          ...    ...\n",
       "104223       11349        41168      1\n",
       "104224       64876         1766      1\n",
       "104225        4476         9608      1\n",
       "104226       51291        24036      1\n",
       "104227       17944        62930      1\n",
       "\n",
       "[104228 rows x 3 columns]"
      ]
     },
     "execution_count": 173,
     "metadata": {},
     "output_type": "execute_result"
    }
   ],
   "source": [
    "tff"
   ]
  },
  {
   "cell_type": "code",
   "execution_count": 132,
   "id": "bad74a8e",
   "metadata": {},
   "outputs": [],
   "source": [
    "first_city=33408"
   ]
  },
  {
   "cell_type": "code",
   "execution_count": 142,
   "id": "e8d5c946",
   "metadata": {},
   "outputs": [
    {
     "data": {
      "text/html": [
       "<div>\n",
       "<style scoped>\n",
       "    .dataframe tbody tr th:only-of-type {\n",
       "        vertical-align: middle;\n",
       "    }\n",
       "\n",
       "    .dataframe tbody tr th {\n",
       "        vertical-align: top;\n",
       "    }\n",
       "\n",
       "    .dataframe thead th {\n",
       "        text-align: right;\n",
       "    }\n",
       "</style>\n",
       "<table border=\"1\" class=\"dataframe\">\n",
       "  <thead>\n",
       "    <tr style=\"text-align: right;\">\n",
       "      <th></th>\n",
       "      <th>first_city</th>\n",
       "      <th>fourth_city</th>\n",
       "      <th>count</th>\n",
       "    </tr>\n",
       "  </thead>\n",
       "  <tbody>\n",
       "    <tr>\n",
       "      <th>0</th>\n",
       "      <td>8183</td>\n",
       "      <td>30628</td>\n",
       "      <td>1</td>\n",
       "    </tr>\n",
       "    <tr>\n",
       "      <th>1</th>\n",
       "      <td>38677</td>\n",
       "      <td>38677</td>\n",
       "      <td>178</td>\n",
       "    </tr>\n",
       "    <tr>\n",
       "      <th>2</th>\n",
       "      <td>64876</td>\n",
       "      <td>36063</td>\n",
       "      <td>208</td>\n",
       "    </tr>\n",
       "    <tr>\n",
       "      <th>3</th>\n",
       "      <td>55990</td>\n",
       "      <td>36063</td>\n",
       "      <td>1</td>\n",
       "    </tr>\n",
       "    <tr>\n",
       "      <th>4</th>\n",
       "      <td>11306</td>\n",
       "      <td>65690</td>\n",
       "      <td>1</td>\n",
       "    </tr>\n",
       "    <tr>\n",
       "      <th>...</th>\n",
       "      <td>...</td>\n",
       "      <td>...</td>\n",
       "      <td>...</td>\n",
       "    </tr>\n",
       "    <tr>\n",
       "      <th>104223</th>\n",
       "      <td>11349</td>\n",
       "      <td>41168</td>\n",
       "      <td>1</td>\n",
       "    </tr>\n",
       "    <tr>\n",
       "      <th>104224</th>\n",
       "      <td>64876</td>\n",
       "      <td>1766</td>\n",
       "      <td>1</td>\n",
       "    </tr>\n",
       "    <tr>\n",
       "      <th>104225</th>\n",
       "      <td>4476</td>\n",
       "      <td>9608</td>\n",
       "      <td>1</td>\n",
       "    </tr>\n",
       "    <tr>\n",
       "      <th>104226</th>\n",
       "      <td>51291</td>\n",
       "      <td>24036</td>\n",
       "      <td>1</td>\n",
       "    </tr>\n",
       "    <tr>\n",
       "      <th>104227</th>\n",
       "      <td>17944</td>\n",
       "      <td>62930</td>\n",
       "      <td>1</td>\n",
       "    </tr>\n",
       "  </tbody>\n",
       "</table>\n",
       "<p>104228 rows × 3 columns</p>\n",
       "</div>"
      ],
      "text/plain": [
       "        first_city  fourth_city  count\n",
       "0             8183        30628      1\n",
       "1            38677        38677    178\n",
       "2            64876        36063    208\n",
       "3            55990        36063      1\n",
       "4            11306        65690      1\n",
       "...            ...          ...    ...\n",
       "104223       11349        41168      1\n",
       "104224       64876         1766      1\n",
       "104225        4476         9608      1\n",
       "104226       51291        24036      1\n",
       "104227       17944        62930      1\n",
       "\n",
       "[104228 rows x 3 columns]"
      ]
     },
     "execution_count": 142,
     "metadata": {},
     "output_type": "execute_result"
    }
   ],
   "source": [
    "tff"
   ]
  },
  {
   "cell_type": "code",
   "execution_count": null,
   "id": "0871e55c",
   "metadata": {},
   "outputs": [],
   "source": []
  },
  {
   "cell_type": "code",
   "execution_count": 118,
   "id": "b5fc8a27",
   "metadata": {},
   "outputs": [],
   "source": [
    "def lift_list(df,first_city,fourth_cities):\n",
    "    \n",
    "    dep_city_code=first_city\n",
    "    arr_city_code=fourth_cities\n",
    "    \n",
    "    \n",
    "    df_denominator=df['count'].sum()\n",
    "    \n",
    "    depart_city=df['first_city'].loc[lambda x: x==dep_city_code].index \n",
    "    count_city=0\n",
    "\n",
    "    for i in range(len(depart_city)):\n",
    "        #print(depart_city[i])\n",
    "        if df['fourth_city'][depart_city[i]]==arr_city_code:\n",
    "            count_city+=df['count'][depart_city[i]]\n",
    "    p_a_and_b=count_city/df_denominator\n",
    "\n",
    "    # count of specific  number in departure_city\n",
    "    xx=df['fourth_city'].loc[lambda x: x==dep_city_code].index\n",
    "\n",
    "    count_num_dc=0\n",
    "    for i in range(len(xx)):\n",
    "        count_num_dc+=df['count'][i]\n",
    "        \n",
    "    p_a=(count_num_dc/df_denominator)\n",
    "    \n",
    "    \n",
    "    # count of specific  number in arrival_city\n",
    "    xx=df['fourth_city'].loc[lambda x: x==arr_city_code].index\n",
    "\n",
    "    count_num_ac=0\n",
    "    for i in range(len(xx)):\n",
    "        count_num_ac+=df['count'][i]\n",
    "\n",
    "    p_b=(count_num_ac/df_denominator)\n",
    "    \n",
    "    #lift\n",
    "    lift_a_b=p_a_and_b/((p_b)*(p_a))\n",
    "\n",
    "    # p(a|b) = lift * p(a)\n",
    "    p_a_given_b=lift_a_b*p_a\n",
    "    \n",
    "    return p_a_given_b"
   ]
  },
  {
   "cell_type": "code",
   "execution_count": 273,
   "id": "e93d0231",
   "metadata": {},
   "outputs": [],
   "source": [
    "first_city=11213123"
   ]
  },
  {
   "cell_type": "code",
   "execution_count": 346,
   "id": "d809b28a",
   "metadata": {},
   "outputs": [
    {
     "name": "stdout",
     "output_type": "stream",
     "text": [
      "4.78 11.97 22.73\n"
     ]
    }
   ],
   "source": [
    "di=df['departure_city'].loc[lambda x: x==33408].index \n",
    "#mean, std of \n",
    "mu = np.mean(df['count'][di])\n",
    "sigma = np.std(df['count'][di])\n",
    "print(round(mu,2),round(sigma,2), round(mu+1.5*sigma,2))"
   ]
  },
  {
   "cell_type": "code",
   "execution_count": 276,
   "id": "86ec2fd3",
   "metadata": {},
   "outputs": [],
   "source": [
    "def recommedation_1(first_city):\n",
    "    if first_city  not in df['departure_city']: \n",
    "        return 0\n",
    "    \n",
    "    di=df['departure_city'].loc[lambda x: x==first_city].index \n",
    "    #mean, std of \n",
    "    mu = np.mean(df['count'][di])\n",
    "    sigma = np.std(df['count'][di])\n",
    "    \n",
    "    # list of bigger than 1.5 sigma \n",
    "    index_15_sigma=df['count'][di].loc[lambda x: x>= (mu + 1.5*sigma)].index.values\n",
    "    r1_list=(df['arrival_city'][index_15_sigma].values).tolist()\n",
    "        \n",
    "    # value of less than 1.5 sigma -> only return max value    \n",
    "    max_index=(df['count'][di].loc[lambda x: x< (mu + 1.5*sigma)]).idxmax()\n",
    "    max_index=np.array([max_index])\n",
    "    r2_list=(df['arrival_city'][max_index].values).tolist()\n",
    "        \n",
    "    r_list=r1_list+r2_list    \n",
    "    return r1_list"
   ]
  },
  {
   "cell_type": "code",
   "execution_count": 289,
   "id": "adf018e1",
   "metadata": {},
   "outputs": [],
   "source": [
    "def final_four(first_city):\n",
    "    \n",
    "    #return second city list\n",
    "    second_cities=recommedation_1(first_city)\n",
    "    if second_cities ==[0]:\n",
    "        return 0\n",
    "\n",
    "    #return third city list \n",
    "    third_cities=[]\n",
    "    for i in range(len(second_cities)):\n",
    "        x=recommedation_1(second_cities[i])\n",
    "        third_cities.append(x)\n",
    "    third_cities=flatten(third_cities)\n",
    "    \n",
    "    \n",
    "    if third_cities ==[0]:\n",
    "        return 0\n",
    "\n",
    "    #return fourth city list \n",
    "    fourth_cities=[]\n",
    "    for i in range(len(third_cities)):\n",
    "        x=recommedation_1(third_cities[i])\n",
    "        fourth_cities.append(x)\n",
    "    fourth_cities=flatten(fourth_cities)\n",
    "    \n",
    "        \n",
    "    if fourth_cities ==[0]:\n",
    "        return 0\n",
    "    \n",
    "    number_cities = collections.defaultdict(int)\n",
    "    for elem in fourth_cities:\n",
    "        number_cities[elem] += 1\n",
    "    fourth_cities = pd.DataFrame(number_cities.items(), columns=['fourth_cities','count'])\n",
    "    \n",
    "    #insert lift value between fourth city and first city\n",
    "    fourth_cities.insert(2, \"p(a|b)\", [lift_list(tff,first_city, fourth_cities['fourth_cities'][i]) for i in range(len(fourth_cities))], True)\n",
    "    \n",
    "    fourth_cities['count*p(a|b)']=fourth_cities['count']*fourth_cities['p(a|b)']\n",
    "    \n",
    "    #descening order by multiplied_lift\n",
    "    fourth_cities=fourth_cities.sort_values('count*p(a|b)', ascending=False)\n",
    "    \n",
    "    final_list=fourth_cities.iloc[0:4]['fourth_cities'].tolist()\n",
    "    \n",
    "    return final_list"
   ]
  },
  {
   "cell_type": "code",
   "execution_count": 138,
   "id": "977a0b4a",
   "metadata": {},
   "outputs": [],
   "source": [
    "#return second city list\n",
    "second_cities=recommedation_1(first_city)\n",
    "\n",
    "#return third city list \n",
    "third_cities=[]\n",
    "for i in range(len(second_cities)):\n",
    "    x=recommedation_1(second_cities[i])\n",
    "    third_cities.append(x)\n",
    "third_cities=flatten(third_cities)\n",
    "\n",
    "#return fourth city list \n",
    "fourth_cities=[]\n",
    "for i in range(len(third_cities)):\n",
    "    x=recommedation_1(third_cities[i])\n",
    "    fourth_cities.append(x)\n",
    "fourth_cities=flatten(fourth_cities)"
   ]
  },
  {
   "cell_type": "code",
   "execution_count": 171,
   "id": "fc62e7e1",
   "metadata": {},
   "outputs": [
    {
     "data": {
      "text/plain": [
       "114"
      ]
     },
     "execution_count": 171,
     "metadata": {},
     "output_type": "execute_result"
    }
   ],
   "source": [
    "len(fourth_cities)"
   ]
  },
  {
   "cell_type": "code",
   "execution_count": 352,
   "id": "89613c96",
   "metadata": {},
   "outputs": [],
   "source": [
    "#fourth_cities"
   ]
  },
  {
   "cell_type": "code",
   "execution_count": 121,
   "id": "2dfdf6b5",
   "metadata": {},
   "outputs": [],
   "source": [
    "# count  dupliate cities in fourth list \n",
    "number_cities = collections.defaultdict(int)\n",
    "for elem in fourth_cities:\n",
    "    number_cities[elem] += 1"
   ]
  },
  {
   "cell_type": "code",
   "execution_count": 175,
   "id": "8c8ec40f",
   "metadata": {},
   "outputs": [],
   "source": [
    "#making dataframe\n",
    "fourth_cities = pd.DataFrame(number_cities.items(), columns=['fourth_cities','count'])"
   ]
  },
  {
   "cell_type": "code",
   "execution_count": 353,
   "id": "7a9fe5e2",
   "metadata": {},
   "outputs": [],
   "source": [
    "#fourth_cities"
   ]
  },
  {
   "cell_type": "code",
   "execution_count": 354,
   "id": "ccca8c98",
   "metadata": {},
   "outputs": [],
   "source": [
    "#fourth_cities"
   ]
  },
  {
   "cell_type": "code",
   "execution_count": 178,
   "id": "cee38b31",
   "metadata": {},
   "outputs": [],
   "source": [
    "#insert lift value between fourth city and first city\n",
    "fourth_cities.insert(2, \"p(a|b)\", [lift_list(tff,first_city, fourth_cities['fourth_cities'][i]) for i in range(len(fourth_cities))], True)"
   ]
  },
  {
   "cell_type": "code",
   "execution_count": 180,
   "id": "9e063691",
   "metadata": {},
   "outputs": [],
   "source": [
    "fourth_cities['count*p(a|b)']=fourth_cities['count']*fourth_cities['p(a|b)']"
   ]
  },
  {
   "cell_type": "code",
   "execution_count": 182,
   "id": "f93d7113",
   "metadata": {},
   "outputs": [],
   "source": [
    "#descening order by multiplied_lift\n",
    "fourth_cities=fourth_cities.sort_values('count*p(a|b)', ascending=False)"
   ]
  },
  {
   "cell_type": "code",
   "execution_count": 355,
   "id": "6c56a3ed",
   "metadata": {},
   "outputs": [],
   "source": [
    "#fourth_cities"
   ]
  },
  {
   "cell_type": "code",
   "execution_count": 184,
   "id": "79697bb8",
   "metadata": {},
   "outputs": [],
   "source": [
    "final_list=fourth_cities.iloc[0:4]['fourth_cities'].tolist()"
   ]
  },
  {
   "cell_type": "code",
   "execution_count": 185,
   "id": "70e8fa9f",
   "metadata": {},
   "outputs": [
    {
     "data": {
      "text/plain": [
       "[49311, 11179, 47360, 65183]"
      ]
     },
     "execution_count": 185,
     "metadata": {},
     "output_type": "execute_result"
    }
   ],
   "source": [
    "final_list"
   ]
  },
  {
   "cell_type": "code",
   "execution_count": 186,
   "id": "f7244116",
   "metadata": {},
   "outputs": [
    {
     "data": {
      "text/html": [
       "<div>\n",
       "<style scoped>\n",
       "    .dataframe tbody tr th:only-of-type {\n",
       "        vertical-align: middle;\n",
       "    }\n",
       "\n",
       "    .dataframe tbody tr th {\n",
       "        vertical-align: top;\n",
       "    }\n",
       "\n",
       "    .dataframe thead th {\n",
       "        text-align: right;\n",
       "    }\n",
       "</style>\n",
       "<table border=\"1\" class=\"dataframe\">\n",
       "  <thead>\n",
       "    <tr style=\"text-align: right;\">\n",
       "      <th></th>\n",
       "      <th>first_city</th>\n",
       "      <th>fourth_city</th>\n",
       "      <th>count</th>\n",
       "    </tr>\n",
       "  </thead>\n",
       "  <tbody>\n",
       "    <tr>\n",
       "      <th>0</th>\n",
       "      <td>56430</td>\n",
       "      <td>5797</td>\n",
       "      <td>1</td>\n",
       "    </tr>\n",
       "    <tr>\n",
       "      <th>1</th>\n",
       "      <td>50075</td>\n",
       "      <td>44768</td>\n",
       "      <td>1</td>\n",
       "    </tr>\n",
       "    <tr>\n",
       "      <th>2</th>\n",
       "      <td>47759</td>\n",
       "      <td>50457</td>\n",
       "      <td>14</td>\n",
       "    </tr>\n",
       "    <tr>\n",
       "      <th>3</th>\n",
       "      <td>8148</td>\n",
       "      <td>26235</td>\n",
       "      <td>2</td>\n",
       "    </tr>\n",
       "    <tr>\n",
       "      <th>4</th>\n",
       "      <td>46258</td>\n",
       "      <td>61619</td>\n",
       "      <td>1</td>\n",
       "    </tr>\n",
       "    <tr>\n",
       "      <th>...</th>\n",
       "      <td>...</td>\n",
       "      <td>...</td>\n",
       "      <td>...</td>\n",
       "    </tr>\n",
       "    <tr>\n",
       "      <th>42765</th>\n",
       "      <td>657</td>\n",
       "      <td>41237</td>\n",
       "      <td>1</td>\n",
       "    </tr>\n",
       "    <tr>\n",
       "      <th>42766</th>\n",
       "      <td>26575</td>\n",
       "      <td>61898</td>\n",
       "      <td>1</td>\n",
       "    </tr>\n",
       "    <tr>\n",
       "      <th>42767</th>\n",
       "      <td>58178</td>\n",
       "      <td>28073</td>\n",
       "      <td>1</td>\n",
       "    </tr>\n",
       "    <tr>\n",
       "      <th>42768</th>\n",
       "      <td>5429</td>\n",
       "      <td>21730</td>\n",
       "      <td>1</td>\n",
       "    </tr>\n",
       "    <tr>\n",
       "      <th>42769</th>\n",
       "      <td>29770</td>\n",
       "      <td>52155</td>\n",
       "      <td>1</td>\n",
       "    </tr>\n",
       "  </tbody>\n",
       "</table>\n",
       "<p>42770 rows × 3 columns</p>\n",
       "</div>"
      ],
      "text/plain": [
       "       first_city  fourth_city  count\n",
       "0           56430         5797      1\n",
       "1           50075        44768      1\n",
       "2           47759        50457     14\n",
       "3            8148        26235      2\n",
       "4           46258        61619      1\n",
       "...           ...          ...    ...\n",
       "42765         657        41237      1\n",
       "42766       26575        61898      1\n",
       "42767       58178        28073      1\n",
       "42768        5429        21730      1\n",
       "42769       29770        52155      1\n",
       "\n",
       "[42770 rows x 3 columns]"
      ]
     },
     "execution_count": 186,
     "metadata": {},
     "output_type": "execute_result"
    }
   ],
   "source": [
    "testDataset=pd.read_csv('testDataset_first_fourth_city.csv')\n",
    "testDataset"
   ]
  },
  {
   "cell_type": "code",
   "execution_count": null,
   "id": "d5ecc947",
   "metadata": {},
   "outputs": [],
   "source": []
  },
  {
   "cell_type": "code",
   "execution_count": 358,
   "id": "ecec9426",
   "metadata": {},
   "outputs": [],
   "source": [
    "# Accuracy Test "
   ]
  },
  {
   "cell_type": "code",
   "execution_count": 334,
   "id": "82e8d270",
   "metadata": {},
   "outputs": [
    {
     "data": {
      "text/html": [
       "<div>\n",
       "<style scoped>\n",
       "    .dataframe tbody tr th:only-of-type {\n",
       "        vertical-align: middle;\n",
       "    }\n",
       "\n",
       "    .dataframe tbody tr th {\n",
       "        vertical-align: top;\n",
       "    }\n",
       "\n",
       "    .dataframe thead th {\n",
       "        text-align: right;\n",
       "    }\n",
       "</style>\n",
       "<table border=\"1\" class=\"dataframe\">\n",
       "  <thead>\n",
       "    <tr style=\"text-align: right;\">\n",
       "      <th></th>\n",
       "      <th>first_city</th>\n",
       "      <th>fourth_city</th>\n",
       "      <th>count</th>\n",
       "    </tr>\n",
       "  </thead>\n",
       "  <tbody>\n",
       "    <tr>\n",
       "      <th>0</th>\n",
       "      <td>56430</td>\n",
       "      <td>5797</td>\n",
       "      <td>1</td>\n",
       "    </tr>\n",
       "    <tr>\n",
       "      <th>1</th>\n",
       "      <td>50075</td>\n",
       "      <td>44768</td>\n",
       "      <td>1</td>\n",
       "    </tr>\n",
       "    <tr>\n",
       "      <th>2</th>\n",
       "      <td>47759</td>\n",
       "      <td>50457</td>\n",
       "      <td>14</td>\n",
       "    </tr>\n",
       "    <tr>\n",
       "      <th>3</th>\n",
       "      <td>8148</td>\n",
       "      <td>26235</td>\n",
       "      <td>2</td>\n",
       "    </tr>\n",
       "    <tr>\n",
       "      <th>4</th>\n",
       "      <td>46258</td>\n",
       "      <td>61619</td>\n",
       "      <td>1</td>\n",
       "    </tr>\n",
       "    <tr>\n",
       "      <th>...</th>\n",
       "      <td>...</td>\n",
       "      <td>...</td>\n",
       "      <td>...</td>\n",
       "    </tr>\n",
       "    <tr>\n",
       "      <th>95</th>\n",
       "      <td>11473</td>\n",
       "      <td>17259</td>\n",
       "      <td>1</td>\n",
       "    </tr>\n",
       "    <tr>\n",
       "      <th>96</th>\n",
       "      <td>51339</td>\n",
       "      <td>62571</td>\n",
       "      <td>1</td>\n",
       "    </tr>\n",
       "    <tr>\n",
       "      <th>97</th>\n",
       "      <td>47486</td>\n",
       "      <td>45073</td>\n",
       "      <td>5</td>\n",
       "    </tr>\n",
       "    <tr>\n",
       "      <th>98</th>\n",
       "      <td>26103</td>\n",
       "      <td>40574</td>\n",
       "      <td>1</td>\n",
       "    </tr>\n",
       "    <tr>\n",
       "      <th>99</th>\n",
       "      <td>28115</td>\n",
       "      <td>28115</td>\n",
       "      <td>30</td>\n",
       "    </tr>\n",
       "  </tbody>\n",
       "</table>\n",
       "<p>100 rows × 3 columns</p>\n",
       "</div>"
      ],
      "text/plain": [
       "    first_city  fourth_city  count\n",
       "0        56430         5797      1\n",
       "1        50075        44768      1\n",
       "2        47759        50457     14\n",
       "3         8148        26235      2\n",
       "4        46258        61619      1\n",
       "..         ...          ...    ...\n",
       "95       11473        17259      1\n",
       "96       51339        62571      1\n",
       "97       47486        45073      5\n",
       "98       26103        40574      1\n",
       "99       28115        28115     30\n",
       "\n",
       "[100 rows x 3 columns]"
      ]
     },
     "execution_count": 334,
     "metadata": {},
     "output_type": "execute_result"
    }
   ],
   "source": [
    "#test_k=testDataset.sample(1000)\n",
    "test_k=testDataset[:100]\n",
    "test_k = test_k.reset_index(drop=True)\n",
    "test_k"
   ]
  },
  {
   "cell_type": "code",
   "execution_count": 335,
   "id": "6aa0326e",
   "metadata": {},
   "outputs": [
    {
     "name": "stderr",
     "output_type": "stream",
     "text": [
      "/Users/seungminyoo/opt/anaconda3/envs/python3.6/lib/python3.6/site-packages/ipykernel_launcher.py:41: RuntimeWarning: invalid value encountered in double_scalars\n"
     ]
    }
   ],
   "source": [
    "for i in range(len(test_k)):\n",
    "    deno=len(test_k)\n",
    "    \n",
    "    first_city=test_k['first_city'][i]\n",
    "    first_city=int(first_city)\n",
    "    \n",
    "    fourth_city=test_k['fourth_city'][i]\n",
    "    fourth_city=int(fourth_city)\n",
    "\n",
    "    acc=0\n",
    "    #y=final_four(first_city)\n",
    "    try:\n",
    "        if fourth_city in final_four(first_city):\n",
    "            k=int(test_k['count'][i])\n",
    "            acc+=1*k\n",
    "    except ValueError:\n",
    "        continue"
   ]
  },
  {
   "cell_type": "code",
   "execution_count": 336,
   "id": "dcdb266f",
   "metadata": {},
   "outputs": [
    {
     "data": {
      "text/plain": [
       "30"
      ]
     },
     "execution_count": 336,
     "metadata": {},
     "output_type": "execute_result"
    }
   ],
   "source": [
    "acc"
   ]
  },
  {
   "cell_type": "code",
   "execution_count": 338,
   "id": "1220f103",
   "metadata": {},
   "outputs": [
    {
     "data": {
      "text/plain": [
       "0.3"
      ]
     },
     "execution_count": 338,
     "metadata": {},
     "output_type": "execute_result"
    }
   ],
   "source": [
    "acc/len(test_k)"
   ]
  },
  {
   "cell_type": "code",
   "execution_count": null,
   "id": "2f9eed50",
   "metadata": {},
   "outputs": [],
   "source": []
  }
 ],
 "metadata": {
  "kernelspec": {
   "display_name": "Python 3",
   "language": "python",
   "name": "python3"
  },
  "language_info": {
   "codemirror_mode": {
    "name": "ipython",
    "version": 3
   },
   "file_extension": ".py",
   "mimetype": "text/x-python",
   "name": "python",
   "nbconvert_exporter": "python",
   "pygments_lexer": "ipython3",
   "version": "3.6.10"
  }
 },
 "nbformat": 4,
 "nbformat_minor": 5
}
